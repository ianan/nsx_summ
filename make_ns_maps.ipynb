{
 "cells": [
  {
   "cell_type": "code",
   "execution_count": 1,
   "metadata": {},
   "outputs": [],
   "source": [
    "# Some tests of NuSTAR FoV map in comparison to other X-ray data\n",
    "# \n",
    "# 11-Apr-2023   IGH\n",
    "# 12-Apr-2023   Fixed nustar_pysolar maps to work with older evt converted files\n",
    "# 17-Apr-2023   Add in label per NuSTAR detector quadrant\n",
    "#               Added in more events\n",
    "# 21-Apr-2023   Added in AIA HEK flares\n",
    "# 30-Jan-2024   Reran for Dec 2023 data\n",
    "# 15-May-2024   Reran for Mar 2024 data\n",
    "# 12-Jul-2024   Reran for Jun 2024 data\n",
    "# 06-Aug-2024   Reran for Jul 2024 data"
   ]
  },
  {
   "cell_type": "code",
   "execution_count": 2,
   "metadata": {},
   "outputs": [],
   "source": [
    "import numpy as np\n",
    "import matplotlib\n",
    "import matplotlib.pyplot as plt\n",
    "from matplotlib.ticker import FormatStrFormatter\n",
    "from sunpy.net import Fido\n",
    "from sunpy.net import attrs as a\n",
    "from sunpy import timeseries as ts\n",
    "from sunpy.time import parse_time\n",
    "from sunpy.coordinates import frames, get_horizons_coord\n",
    "import sunpy.map\n",
    "from astropy.coordinates import SkyCoord\n",
    "from astropy.io import fits\n",
    "import astropy.units as u\n",
    "import datetime\n",
    "import pandas as pd\n",
    "import os\n",
    "from pathlib import Path\n",
    "import glob\n",
    "from stixdcpy.quicklook import LightCurves\n",
    "\n",
    "import nustar_pysolar as nustar\n",
    "from scipy import ndimage\n",
    "\n",
    "import matplotlib.colors as colors\n",
    "from matplotlib.colors import LogNorm\n",
    "from sunpy.coordinates import Helioprojective\n",
    "\n",
    "import nsx_func\n",
    "\n",
    "import warnings\n",
    "warnings.simplefilter('ignore')\n",
    "\n",
    "plt.rcParams.update({'font.size': 20,'font.family':\"sans-serif\",\\\n",
    "            'font.sans-serif':\"Arial\",'mathtext.default':\"regular\"})"
   ]
  },
  {
   "cell_type": "code",
   "execution_count": 3,
   "metadata": {},
   "outputs": [],
   "source": [
    "# List of all the NuSTAR observations, with my naming, \n",
    "# based off first day of observing per campaign\n",
    "dobs=['20140910','20141101','20141211',\n",
    "    '20150429','20150901',\n",
    "    '20160219','20160422','20160726',\n",
    "    '20170321','20170821','20170911','20171010',\n",
    "    '20180529','20180907','20180928',\n",
    "    '20190112','20190412','20190425','20190702',\n",
    "    '20200129','20200221','20200606','20200912',\n",
    "    '20210108','20210429','20210720','20210730','20211117',\n",
    "    '20220224','20220603','20220906','20221209',\n",
    "    '20230318','20231228',\n",
    "    '20240330','20240630','20240716']\n",
    "\n",
    "# Data directory\n",
    "# ddir=str(Path.home())+'/data/heasarc_nustar/'\n",
    "ddir='/Volumes/Samsung_T5/data/heasarc_nustar/'"
   ]
  },
  {
   "cell_type": "code",
   "execution_count": 4,
   "metadata": {},
   "outputs": [],
   "source": [
    "# # Find all pointings/IDs for the chosen observation \n",
    "# for icamp in [21,23,24,25,26,27,28,29,30,31,32]:\n",
    "# # for icamp in [29]:\n",
    "\n",
    "#     maindir=ddir+'ns_'+dobs[icamp]+'/'\n",
    "#     print(icamp, ' --- ',maindir)\n",
    "#     # Most start with 20 or 80 or 90?\n",
    "#     ids = [f.name for f in os.scandir(maindir) \\\n",
    "#         if (f.is_dir() and (f.name.startswith('20') or f.name.startswith('80') or f.name.startswith('90')))]\n",
    "#     ids=sorted(ids)\n",
    "\n",
    "#     # Filter out random other dirs\n",
    "#     ids=[f for f in ids if not f.endswith('_new')]\n",
    "\n",
    "#     # Remove the mosiac from 20220603\n",
    "#     if (dobs[icamp] == '20220603'):\n",
    "#         ids=[f for f in ids if f.startswith('2062400')]\n",
    "        \n",
    "#     print(\"#: \",len(ids),' --- ',ids)"
   ]
  }
 ],
 "metadata": {
  "kernelspec": {
   "display_name": "base",
   "language": "python",
   "name": "python3"
  },
  "language_info": {
   "codemirror_mode": {
    "name": "ipython",
    "version": 3
   },
   "file_extension": ".py",
   "mimetype": "text/x-python",
   "name": "python",
   "nbconvert_exporter": "python",
   "pygments_lexer": "ipython3",
   "version": "3.10.9"
  },
  "orig_nbformat": 4
 },
 "nbformat": 4,
 "nbformat_minor": 2
}
