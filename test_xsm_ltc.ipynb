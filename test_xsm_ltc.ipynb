{
 "cells": [
  {
   "cell_type": "code",
   "execution_count": 1,
   "metadata": {},
   "outputs": [],
   "source": [
    "# Some tests of XSM and NuSTAR lightcurves in comparison to other X-ray data\n",
    "# \n",
    "# 18-04-2023    IGH"
   ]
  },
  {
   "cell_type": "code",
   "execution_count": 2,
   "metadata": {},
   "outputs": [],
   "source": [
    "import numpy as np\n",
    "import matplotlib\n",
    "import matplotlib.pyplot as plt\n",
    "from matplotlib.ticker import FormatStrFormatter\n",
    "from sunpy.net import Fido\n",
    "from sunpy.net import attrs as a\n",
    "from sunpy import timeseries as ts\n",
    "from sunpy.time import parse_time\n",
    "from astropy.io import fits\n",
    "import astropy.units as u\n",
    "import datetime\n",
    "import pandas as pd\n",
    "import os\n",
    "from pathlib import Path\n",
    "import glob\n",
    "from stixdcpy.quicklook import LightCurves\n",
    "from stixdcpy.net import Request as jreq\n",
    "\n",
    "import nsx_func\n",
    "\n",
    "import warnings\n",
    "warnings.simplefilter('ignore')\n",
    "\n",
    "plt.rcParams.update({'font.size': 18,'font.family':\"sans-serif\",\\\n",
    "            'font.sans-serif':\"Arial\",'mathtext.default':\"regular\"})"
   ]
  },
  {
   "cell_type": "code",
   "execution_count": 11,
   "metadata": {},
   "outputs": [],
   "source": [
    "# List of all the NuSTAR observations, with my naming, \n",
    "# based off first day of observing per campaign\n",
    "dobs=['20140910','20141101','20141211',\n",
    "    '20150429','20150901',\n",
    "    '20160219','20160422','20160726',\n",
    "    '20170321','20170821','20170911','20171010',\n",
    "    '20180529','20180907','20180928',\n",
    "    '20190112','20190412','20190425','20190702',\n",
    "    '20200129','20200221','20200606','20200912',\n",
    "    '20210108','20210429','20210720','20210730','20211117',\n",
    "    '20220224','20220603','20220906','20221209',\n",
    "    '20230318']\n",
    "\n",
    "# Data directory\n",
    "# ddir=str(Path.home())+'/data/heasarc_nustar/'\n",
    "ddir='/Volumes/Samsung_T5/data/heasarc_nustar/'"
   ]
  },
  {
   "cell_type": "code",
   "execution_count": 12,
   "metadata": {},
   "outputs": [
    {
     "name": "stdout",
     "output_type": "stream",
     "text": [
      "/Volumes/Samsung_T5/data/heasarc_nustar/ns_20210429/\n",
      "['20615001001', '20615002001', '20615003001', '20615004001', '20615005001', '20616001001', '20616002001', '20616003001', '20616004001', '20616005001', '20617001001', '20617002001', '20617003001', '20617004001', '20617005001', '20617006001']\n",
      "/Volumes/Samsung_T5/data/heasarc_nustar/ns_20220224/\n",
      "['20621001001', '20621002001', '20621003001', '20621004001', '20622001001', '20622002001', '20622003001', '20622004001', '20623001001', '20623002001', '20623003001', '20623004001']\n",
      "/Volumes/Samsung_T5/data/heasarc_nustar/ns_20220906/\n",
      "['90810201001', '90810202001', '90810203001', '90810204001']\n",
      "/Volumes/Samsung_T5/data/heasarc_nustar/ns_20230318/\n",
      "['20801021001', '20801022001', '20801023001', '20801024001', '20801025001', '20801026001', '20801027001']\n"
     ]
    }
   ],
   "source": [
    "# Find all pointings/IDs for the chosen observation \n",
    "for icamp in [24,28,30,32]:\n",
    "    maindir=ddir+'ns_'+dobs[icamp]+'/'\n",
    "    print(maindir)\n",
    "    # Most start with 20 or 90?\n",
    "    ids = [f.name for f in os.scandir(maindir) \\\n",
    "        if (f.is_dir() and (f.name.startswith('20') or f.name.startswith('80') or f.name.startswith('90')))]\n",
    "    ids=sorted(ids)\n",
    "    print(ids)\n"
   ]
  },
  {
   "cell_type": "code",
   "execution_count": 15,
   "metadata": {},
   "outputs": [],
   "source": [
    "xsmdir=str(Path.home())+'/data/goes_xrs/'"
   ]
  },
  {
   "cell_type": "code",
   "execution_count": 22,
   "metadata": {},
   "outputs": [
    {
     "name": "stdout",
     "output_type": "stream",
     "text": [
      "2021 04 29\n"
     ]
    }
   ],
   "source": [
    "icamp=24\n",
    "date=dobs[icamp]\n",
    "year=date[:4]\n",
    "mon=date[4:6]\n",
    "day=date[6:8]\n",
    "print(year,mon,day)\n"
   ]
  },
  {
   "cell_type": "code",
   "execution_count": null,
   "metadata": {},
   "outputs": [],
   "source": []
  },
  {
   "cell_type": "code",
   "execution_count": null,
   "metadata": {},
   "outputs": [],
   "source": []
  }
 ],
 "metadata": {
  "kernelspec": {
   "display_name": "base",
   "language": "python",
   "name": "python3"
  },
  "language_info": {
   "codemirror_mode": {
    "name": "ipython",
    "version": 3
   },
   "file_extension": ".py",
   "mimetype": "text/x-python",
   "name": "python",
   "nbconvert_exporter": "python",
   "pygments_lexer": "ipython3",
   "version": "3.10.9"
  },
  "orig_nbformat": 4
 },
 "nbformat": 4,
 "nbformat_minor": 2
}
