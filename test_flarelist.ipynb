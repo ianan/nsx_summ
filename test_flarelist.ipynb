{
 "cells": [
  {
   "cell_type": "code",
   "execution_count": 2,
   "metadata": {},
   "outputs": [],
   "source": [
    "# Some tests of the various GOES flare lists\n",
    "# \n",
    "# 12-Apr-2023   IGH"
   ]
  },
  {
   "cell_type": "code",
   "execution_count": 10,
   "metadata": {},
   "outputs": [],
   "source": [
    "import numpy as np\n",
    "import matplotlib\n",
    "import matplotlib.pyplot as plt\n",
    "from matplotlib.ticker import FormatStrFormatter\n",
    "from sunpy.net import Fido\n",
    "from sunpy.net import attrs as a\n",
    "from sunpy import timeseries as ts\n",
    "from sunpy.time import parse_time\n",
    "from astropy.io import fits\n",
    "import astropy.units as u\n",
    "import datetime\n",
    "import pandas as pd\n",
    "import os\n",
    "from pathlib import Path\n",
    "import glob\n",
    "from stixdcpy.quicklook import LightCurves\n",
    "\n",
    "import nsx_func\n",
    "\n",
    "import warnings\n",
    "warnings.simplefilter('ignore')\n",
    "\n",
    "plt.rcParams.update({'font.size': 18,'font.family':\"sans-serif\",\\\n",
    "            'font.sans-serif':\"Arial\",'mathtext.default':\"regular\"})"
   ]
  },
  {
   "cell_type": "code",
   "execution_count": 4,
   "metadata": {},
   "outputs": [],
   "source": [
    "# List of all the NuSTAR observations, with my naming, \n",
    "# based off first day of observing per campaign\n",
    "dobs=['20140910','20141101','20141211',\n",
    "    '20150429','20150901',\n",
    "    '20160219','20160422','20160726',\n",
    "    '20170321','20170821','20170911','20171010',\n",
    "    '20180529','20180907','20180928',\n",
    "    '20190112','20190412','20190425','20190702',\n",
    "    '20200129','20200221','20200606','20200912',\n",
    "    '20210108','20210429','20210720','20210730','20211117',\n",
    "    '20220224','20220603','20220906','20221209',\n",
    "    '20230318']\n",
    "\n",
    "# Data directory\n",
    "ddir=str(Path.home())+'/data/heasarc_nustar/'"
   ]
  },
  {
   "cell_type": "code",
   "execution_count": 11,
   "metadata": {},
   "outputs": [
    {
     "name": "stdout",
     "output_type": "stream",
     "text": [
      "/Users/iain/data/heasarc_nustar/ns_20230318/\n"
     ]
    }
   ],
   "source": [
    "# Select a pointing with some flares during it \n",
    "# (not necesarily where NuSTAR is looking though)\n",
    "\n",
    "icamp=32\n",
    "maindir=ddir+'ns_'+dobs[icamp]+'/'\n",
    "print(maindir)\n",
    "# Most start with 20 or 90?\n",
    "ids = [f.name for f in os.scandir(maindir) \\\n",
    "    if (f.is_dir() and (f.name.startswith('20') or f.name.startswith('90')))]\n",
    "ids=sorted(ids)\n",
    "nsid=ids[0]\n",
    "\n",
    "df_test=nsx_func.nsrate(maindir=maindir,nsid=nsid,lvt=False,englow=2,enghigh=10)\n",
    "df10 = df_test.resample('10s', level=0).mean()\n",
    "\n",
    "# Time range to nearest 5mins\n",
    "mint=df10.index[0].to_pydatetime()\n",
    "mint-=datetime.timedelta(minutes=5,seconds=mint.second)\n",
    "mint-=datetime.timedelta(minutes=mint.minute % 5)\n",
    "maxt=df10.index[-1].to_pydatetime()\n",
    "maxt+=datetime.timedelta(minutes=5,seconds=60-maxt.second)\n",
    "maxt-=datetime.timedelta(minutes=maxt.minute % 5)\n",
    "tr=[mint,maxt]\n",
    "trange=a.Time(tr[0],tr[1])\n",
    "\n"
   ]
  },
  {
   "cell_type": "code",
   "execution_count": 18,
   "metadata": {},
   "outputs": [
    {
     "name": "stdout",
     "output_type": "stream",
     "text": [
      "Results from 1 Provider:\n",
      "\n",
      "0 Results from the HEKClient:\n",
      "\n",
      "<No columns>\n",
      "\n",
      "\n"
     ]
    }
   ],
   "source": [
    "# gsflin = Fido.search(trange,a.hek.EventType(\"FL\"),a.hek.FRM.Name == \"SSW Latest Events\")\n",
    "# # gsflhk=gsflin[\"hek\"]\n",
    "# gsflin\n",
    "\n",
    "# gsflin2 = Fido.search(trange,a.hek.EventType(\"FL\"),a.hek.FRM.Name == \"SWPC\")\n",
    "gsflin2 = Fido.search(trange,a.hek.EventType(\"FL\"),a.hek.OBS.Observatory == \"GOES\")\n",
    "print(gsflin2)"
   ]
  },
  {
   "cell_type": "code",
   "execution_count": 28,
   "metadata": {},
   "outputs": [
    {
     "name": "stdout",
     "output_type": "stream",
     "text": [
      "2023-03-18T13:25:00.000\n"
     ]
    }
   ],
   "source": [
    "print(trange.start.isot)"
   ]
  },
  {
   "cell_type": "code",
   "execution_count": 50,
   "metadata": {},
   "outputs": [
    {
     "data": {
      "text/html": [
       "<div>\n",
       "<style scoped>\n",
       "    .dataframe tbody tr th:only-of-type {\n",
       "        vertical-align: middle;\n",
       "    }\n",
       "\n",
       "    .dataframe tbody tr th {\n",
       "        vertical-align: top;\n",
       "    }\n",
       "\n",
       "    .dataframe thead th {\n",
       "        text-align: right;\n",
       "    }\n",
       "</style>\n",
       "<table border=\"1\" class=\"dataframe\">\n",
       "  <thead>\n",
       "    <tr style=\"text-align: right;\">\n",
       "      <th></th>\n",
       "      <th>flare_id</th>\n",
       "      <th>duration</th>\n",
       "      <th>att_in</th>\n",
       "      <th>peak_UTC</th>\n",
       "      <th>LC0_BKG</th>\n",
       "      <th>_id</th>\n",
       "      <th>GOES_class</th>\n",
       "      <th>GOES_flux</th>\n",
       "      <th>CFL_X_arcsec</th>\n",
       "      <th>CFL_Y_arcsec</th>\n",
       "      <th>...</th>\n",
       "      <th>LC0_PEAK_COUNTS_4S</th>\n",
       "      <th>LC0_BKG_COUNTS_4S</th>\n",
       "      <th>LC1_PEAK_COUNTS_4S</th>\n",
       "      <th>LC1_BKG_COUNTS_4S</th>\n",
       "      <th>LC2_PEAK_COUNTS_4S</th>\n",
       "      <th>LC2_BKG_COUNTS_4S</th>\n",
       "      <th>LC3_PEAK_COUNTS_4S</th>\n",
       "      <th>LC3_BKG_COUNTS_4S</th>\n",
       "      <th>LC4_PEAK_COUNTS_4S</th>\n",
       "      <th>LC4_BKG_COUNTS_4S</th>\n",
       "    </tr>\n",
       "  </thead>\n",
       "  <tbody>\n",
       "    <tr>\n",
       "      <th>0</th>\n",
       "      <td>2303181421</td>\n",
       "      <td>752</td>\n",
       "      <td>False</td>\n",
       "      <td>2023-03-18T14:21:08.848</td>\n",
       "      <td>219.988274</td>\n",
       "      <td>25484</td>\n",
       "      <td>C1.1</td>\n",
       "      <td>1.066117e-06</td>\n",
       "      <td>None</td>\n",
       "      <td>None</td>\n",
       "      <td>...</td>\n",
       "      <td>607</td>\n",
       "      <td>287.0</td>\n",
       "      <td>99</td>\n",
       "      <td>45.0</td>\n",
       "      <td>83</td>\n",
       "      <td>61.0</td>\n",
       "      <td>799</td>\n",
       "      <td>735.0</td>\n",
       "      <td>431</td>\n",
       "      <td>383.0</td>\n",
       "    </tr>\n",
       "    <tr>\n",
       "      <th>1</th>\n",
       "      <td>2303181358</td>\n",
       "      <td>108</td>\n",
       "      <td>False</td>\n",
       "      <td>2023-03-18T13:58:48.845</td>\n",
       "      <td>219.988274</td>\n",
       "      <td>25483</td>\n",
       "      <td>B8.4</td>\n",
       "      <td>8.350112e-07</td>\n",
       "      <td>None</td>\n",
       "      <td>None</td>\n",
       "      <td>...</td>\n",
       "      <td>303</td>\n",
       "      <td>287.0</td>\n",
       "      <td>49</td>\n",
       "      <td>45.0</td>\n",
       "      <td>67</td>\n",
       "      <td>61.0</td>\n",
       "      <td>799</td>\n",
       "      <td>735.0</td>\n",
       "      <td>431</td>\n",
       "      <td>383.0</td>\n",
       "    </tr>\n",
       "    <tr>\n",
       "      <th>2</th>\n",
       "      <td>2303181349</td>\n",
       "      <td>428</td>\n",
       "      <td>False</td>\n",
       "      <td>2023-03-18T13:49:24.844</td>\n",
       "      <td>219.988274</td>\n",
       "      <td>25482</td>\n",
       "      <td>B8.4</td>\n",
       "      <td>8.408853e-07</td>\n",
       "      <td>None</td>\n",
       "      <td>None</td>\n",
       "      <td>...</td>\n",
       "      <td>335</td>\n",
       "      <td>287.0</td>\n",
       "      <td>67</td>\n",
       "      <td>45.0</td>\n",
       "      <td>75</td>\n",
       "      <td>61.0</td>\n",
       "      <td>799</td>\n",
       "      <td>735.0</td>\n",
       "      <td>431</td>\n",
       "      <td>383.0</td>\n",
       "    </tr>\n",
       "    <tr>\n",
       "      <th>3</th>\n",
       "      <td>2303181334</td>\n",
       "      <td>760</td>\n",
       "      <td>False</td>\n",
       "      <td>2023-03-18T13:34:08.843</td>\n",
       "      <td>219.988274</td>\n",
       "      <td>25481</td>\n",
       "      <td>C1.1</td>\n",
       "      <td>1.128526e-06</td>\n",
       "      <td>None</td>\n",
       "      <td>None</td>\n",
       "      <td>...</td>\n",
       "      <td>2431</td>\n",
       "      <td>287.0</td>\n",
       "      <td>431</td>\n",
       "      <td>45.0</td>\n",
       "      <td>247</td>\n",
       "      <td>61.0</td>\n",
       "      <td>799</td>\n",
       "      <td>735.0</td>\n",
       "      <td>431</td>\n",
       "      <td>383.0</td>\n",
       "    </tr>\n",
       "  </tbody>\n",
       "</table>\n",
       "<p>4 rows × 22 columns</p>\n",
       "</div>"
      ],
      "text/plain": [
       "     flare_id  duration  att_in                 peak_UTC     LC0_BKG    _id   \n",
       "0  2303181421       752   False  2023-03-18T14:21:08.848  219.988274  25484  \\\n",
       "1  2303181358       108   False  2023-03-18T13:58:48.845  219.988274  25483   \n",
       "2  2303181349       428   False  2023-03-18T13:49:24.844  219.988274  25482   \n",
       "3  2303181334       760   False  2023-03-18T13:34:08.843  219.988274  25481   \n",
       "\n",
       "  GOES_class     GOES_flux CFL_X_arcsec CFL_Y_arcsec  ... LC0_PEAK_COUNTS_4S   \n",
       "0       C1.1  1.066117e-06         None         None  ...                607  \\\n",
       "1       B8.4  8.350112e-07         None         None  ...                303   \n",
       "2       B8.4  8.408853e-07         None         None  ...                335   \n",
       "3       C1.1  1.128526e-06         None         None  ...               2431   \n",
       "\n",
       "  LC0_BKG_COUNTS_4S  LC1_PEAK_COUNTS_4S  LC1_BKG_COUNTS_4S   \n",
       "0             287.0                  99               45.0  \\\n",
       "1             287.0                  49               45.0   \n",
       "2             287.0                  67               45.0   \n",
       "3             287.0                 431               45.0   \n",
       "\n",
       "   LC2_PEAK_COUNTS_4S  LC2_BKG_COUNTS_4S  LC3_PEAK_COUNTS_4S   \n",
       "0                  83               61.0                 799  \\\n",
       "1                  67               61.0                 799   \n",
       "2                  75               61.0                 799   \n",
       "3                 247               61.0                 799   \n",
       "\n",
       "   LC3_BKG_COUNTS_4S  LC4_PEAK_COUNTS_4S  LC4_BKG_COUNTS_4S  \n",
       "0              735.0                 431              383.0  \n",
       "1              735.0                 431              383.0  \n",
       "2              735.0                 431              383.0  \n",
       "3              735.0                 431              383.0  \n",
       "\n",
       "[4 rows x 22 columns]"
      ]
     },
     "execution_count": 50,
     "metadata": {},
     "output_type": "execute_result"
    }
   ],
   "source": [
    "from stixdcpy.net import Request as jreq\n",
    "\n",
    "stxfl=jreq.fetch_flare_list(trange.start.isot, trange.end.isot, sort='time')\n",
    "stxfl.dataframe()"
   ]
  },
  {
   "cell_type": "code",
   "execution_count": 52,
   "metadata": {},
   "outputs": [
    {
     "name": "stdout",
     "output_type": "stream",
     "text": [
      "2023-03-18T14:21:08.848 2023-03-18T14:17:44.847 2023-03-18T14:30:16.849\n",
      "2023-03-18T13:58:48.845 2023-03-18T13:58:08.845 2023-03-18T13:59:56.845\n",
      "2023-03-18T13:49:24.844 2023-03-18T13:48:28.844 2023-03-18T13:55:36.845\n",
      "2023-03-18T13:34:08.843 2023-03-18T13:27:16.842 2023-03-18T13:39:56.843\n"
     ]
    }
   ],
   "source": [
    "# Could use STIX flare list instead but no flare positions just the times\n",
    "for sf in stxfl:\n",
    "    print(sf.get('peak_UTC'),sf.get('start_UTC'),sf.get('end_UTC'))\n",
    "# Need to shift these to the times at the Earth?"
   ]
  }
 ],
 "metadata": {
  "kernelspec": {
   "display_name": "base",
   "language": "python",
   "name": "python3"
  },
  "language_info": {
   "codemirror_mode": {
    "name": "ipython",
    "version": 3
   },
   "file_extension": ".py",
   "mimetype": "text/x-python",
   "name": "python",
   "nbconvert_exporter": "python",
   "pygments_lexer": "ipython3",
   "version": "3.10.9"
  },
  "orig_nbformat": 4
 },
 "nbformat": 4,
 "nbformat_minor": 2
}
